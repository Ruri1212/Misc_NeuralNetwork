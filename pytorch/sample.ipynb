{
 "cells": [
  {
   "cell_type": "code",
   "execution_count": 13,
   "metadata": {},
   "outputs": [
    {
     "name": "stdout",
     "output_type": "stream",
     "text": [
      "torch.Size([2, 3, 2, 2])\n",
      "torch.Size([2, 3, 4])\n",
      "torch.Size([4, 2, 3])\n",
      "tmp torch.Size([1, 1, 2, 3])\n",
      "tensor([[[[0, 1, 2],\n",
      "          [3, 4, 5]]]])\n",
      "\n"
     ]
    },
    {
     "ename": "RuntimeError",
     "evalue": "Number of dimensions of repeat dims can not be smaller than number of dimensions of tensor",
     "output_type": "error",
     "traceback": [
      "\u001b[0;31m---------------------------------------------------------------------------\u001b[0m",
      "\u001b[0;31mRuntimeError\u001b[0m                              Traceback (most recent call last)",
      "Cell \u001b[0;32mIn[13], line 17\u001b[0m\n\u001b[1;32m     15\u001b[0m \u001b[38;5;28mprint\u001b[39m(tmp)\n\u001b[1;32m     16\u001b[0m \u001b[38;5;28mprint\u001b[39m()\n\u001b[0;32m---> 17\u001b[0m e \u001b[38;5;241m=\u001b[39m \u001b[43mtmp\u001b[49m\u001b[38;5;241;43m.\u001b[39;49m\u001b[43mrepeat\u001b[49m\u001b[43m(\u001b[49m\u001b[38;5;241;43m1\u001b[39;49m\u001b[43m,\u001b[49m\u001b[38;5;241;43m2\u001b[39;49m\u001b[43m,\u001b[49m\u001b[38;5;241;43m1\u001b[39;49m\u001b[43m)\u001b[49m\n\u001b[1;32m     18\u001b[0m \u001b[38;5;28mprint\u001b[39m(e\u001b[38;5;241m.\u001b[39mshape)\n\u001b[1;32m     19\u001b[0m \u001b[38;5;28mprint\u001b[39m(e)\n",
      "\u001b[0;31mRuntimeError\u001b[0m: Number of dimensions of repeat dims can not be smaller than number of dimensions of tensor"
     ]
    }
   ],
   "source": [
    "import torch\n",
    "\n",
    "a = torch.arange(24).reshape(2,3,2,2)\n",
    "print(a.shape)\n",
    "\n",
    "\n",
    "b = a.flatten(2)\n",
    "print(b.shape)\n",
    "\n",
    "c = b.permute(2,0,1)\n",
    "print(c.shape)\n",
    "\n",
    "tmp = torch.arange(6).reshape(1,2,3).unsqueeze(1)\n",
    "print(\"tmp\",tmp.shape)\n",
    "print(tmp)\n",
    "print()\n",
    "e = tmp.repeat(1,2,1)\n",
    "print(e.shape)\n",
    "print(e)"
   ]
  },
  {
   "cell_type": "code",
   "execution_count": 6,
   "metadata": {},
   "outputs": [
    {
     "name": "stdout",
     "output_type": "stream",
     "text": [
      "3\n",
      "torch.Size([4, 3, 28, 28])\n",
      "torch.Size([4])\n",
      "torch.Size([4, 3, 28, 28])\n",
      "torch.Size([4])\n",
      "torch.Size([2, 3, 28, 28])\n",
      "torch.Size([2])\n"
     ]
    }
   ],
   "source": [
    "import torch\n",
    "from torch.utils.data import TensorDataset, DataLoader\n",
    "\n",
    "\n",
    "# データの生成\n",
    "data = torch.randn(10, 3, 28, 28)\n",
    "# ラベルの生成 (0~9の整数値)\n",
    "labels = torch.randint(0, 10, (10,))\n",
    "# TensorDatasetを作成\n",
    "dataset = TensorDataset(data, labels)\n",
    "\n",
    "# DataLoaderを作成\n",
    "batch_size = 4  # バッチサイズを指定\n",
    "trainloader = DataLoader(dataset, batch_size=batch_size, shuffle=True)\n",
    "\n",
    "print(len(trainloader))\n",
    "for i in trainloader:\n",
    "    print(i[0].shape)\n",
    "    print(i[1].shape)\n",
    "\n"
   ]
  },
  {
   "cell_type": "code",
   "execution_count": 27,
   "metadata": {},
   "outputs": [
    {
     "name": "stdout",
     "output_type": "stream",
     "text": [
      "Net(\n",
      "  (conv1): Conv2d(3, 10, kernel_size=(5, 5), stride=(1, 1))\n",
      "  (conv2): Conv2d(10, 10, kernel_size=(5, 5), stride=(1, 1))\n",
      "  (fc1): Linear(in_features=160, out_features=10, bias=True)\n",
      ")\n",
      "conv1.weight    ([10, 3, 5, 5])      True \n",
      "conv1.bias      ([10])               True \n",
      "conv2.weight    ([10, 10, 5, 5])     True \n",
      "conv2.bias      ([10])               True \n",
      "fc1.weight      ([10, 160])          True \n",
      "fc1.bias        ([10])               True \n"
     ]
    }
   ],
   "source": [
    "import torch.nn as nn\n",
    "\n",
    "import torch.nn.functional as F\n",
    "class Net(nn.Module):\n",
    "    def __init__(self):\n",
    "        super().__init__()\n",
    "        self.conv1 = nn.Conv2d(3, 10, 5)\n",
    "        self.conv2 = nn.Conv2d(10, 10, 5)\n",
    "        self.fc1 = nn.Linear(4*4*10, 10)\n",
    "\n",
    "    def forward(self, x):\n",
    "        x = F.relu(self.conv1(x)) # 10 x  3 x 28 x 28 -> 10 x 10 x 24 x 24\n",
    "        x = F.max_pool2d(x, 2)    # 10 x 10 x 24 x 24 -> 10 x 10 x 12 x 12\n",
    "        x = F.relu(self.conv2(x)) # 10 x 10 x 12 x 12 -> 10 x 10 x  8 x  8\n",
    "        x = F.max_pool2d(x, 2)    # 10 x 10 x  8 x  8 -> 10 x 10 x  4 x  4\n",
    "        x = x.view(-1, 4*4*10)    # 10 x 10 x  4 x  4 -> 10 x 160        \n",
    "        x = self.fc1(x)           # 10 x 160          -> 10 x 10\n",
    "        return x\n",
    "\n",
    "net = Net()\n",
    "\n",
    "print(net)\n",
    "\n",
    "# for param in net.parameters():\n",
    "#     print(param.shape)\n",
    "#     print(param.requires_grad)\n",
    "\n",
    "# print(net.state_dict().keys())\n",
    "\n",
    "for params,name in zip(net.parameters(),net.state_dict().keys()):\n",
    "    print(name.ljust(15),str(params.shape).replace(\"torch.Size\",\"\").ljust(20),str(params.requires_grad).ljust(5))\n"
   ]
  },
  {
   "cell_type": "code",
   "execution_count": 30,
   "metadata": {},
   "outputs": [
    {
     "ename": "AttributeError",
     "evalue": "'Logger' object has no attribute 'records'",
     "output_type": "error",
     "traceback": [
      "\u001b[0;31m---------------------------------------------------------------------------\u001b[0m",
      "\u001b[0;31mAttributeError\u001b[0m                            Traceback (most recent call last)",
      "Cell \u001b[0;32mIn[30], line 7\u001b[0m\n\u001b[1;32m      4\u001b[0m \u001b[38;5;28;01mfor\u001b[39;00m handler \u001b[38;5;129;01min\u001b[39;00m log\u001b[38;5;241m.\u001b[39mhandlers:\n\u001b[1;32m      5\u001b[0m     \u001b[38;5;28mprint\u001b[39m(handler)\n\u001b[0;32m----> 7\u001b[0m \u001b[38;5;28;01mfor\u001b[39;00m record \u001b[38;5;129;01min\u001b[39;00m \u001b[43mlog\u001b[49m\u001b[38;5;241;43m.\u001b[39;49m\u001b[43mrecords\u001b[49m:\n\u001b[1;32m      8\u001b[0m     \u001b[38;5;28mprint\u001b[39m(record)\n",
      "\u001b[0;31mAttributeError\u001b[0m: 'Logger' object has no attribute 'records'"
     ]
    }
   ],
   "source": [
    "\n",
    "import logging\n",
    "log  = logging.getLogger(__name__)\n",
    "log.info(\"test\")\n",
    "for handler in log.handlers:\n",
    "    print(handler)\n",
    "\n",
    "for record in log.records:\n",
    "    print(record)"
   ]
  }
 ],
 "metadata": {
  "kernelspec": {
   "display_name": "DeepLearning",
   "language": "python",
   "name": "python3"
  },
  "language_info": {
   "codemirror_mode": {
    "name": "ipython",
    "version": 3
   },
   "file_extension": ".py",
   "mimetype": "text/x-python",
   "name": "python",
   "nbconvert_exporter": "python",
   "pygments_lexer": "ipython3",
   "version": "3.10.9"
  }
 },
 "nbformat": 4,
 "nbformat_minor": 2
}
