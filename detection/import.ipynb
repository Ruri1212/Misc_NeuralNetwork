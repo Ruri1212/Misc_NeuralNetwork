{
 "cells": [
  {
   "cell_type": "markdown",
   "metadata": {},
   "source": [
    "## COCOデータの中身\n",
    "\n",
    "<p>参考サイト：https://note.com/ghelia/n/nbc7e6d39c0ba </p>"
   ]
  },
  {
   "cell_type": "code",
   "execution_count": 1,
   "metadata": {},
   "outputs": [
    {
     "name": "stdout",
     "output_type": "stream",
     "text": [
      "4\n"
     ]
    }
   ],
   "source": [
    "import torch\n",
    "\n",
    "import json\n",
    "\n",
    "\n",
    "caption_file_path = \"../../coco/annotations/captions_train2017.json\"\n",
    "with open(caption_file_path,\"r\") as file:\n",
    "    caption_data = json.load(file)\n",
    "\n",
    "print(len(caption_data))\n",
    "\n",
    "# instace_file_path = \"../coco/annotations/instances_train2017.json\"\n",
    "# keypoint_file_path = \"../coco/annotations/person_keypoints_train2017.json\"\n"
   ]
  },
  {
   "cell_type": "code",
   "execution_count": 19,
   "metadata": {},
   "outputs": [
    {
     "name": "stdout",
     "output_type": "stream",
     "text": [
      "<class 'dict'>\n",
      "4\n",
      "dict_keys(['info', 'licenses', 'images', 'annotations'])\n",
      "\n",
      "images\n",
      "<class 'list'>\n",
      "118287\n",
      "{'license': 3, 'file_name': '000000391895.jpg', 'coco_url': 'http://images.cocodataset.org/train2017/000000391895.jpg', 'height': 360, 'width': 640, 'date_captured': '2013-11-14 11:18:45', 'flickr_url': 'http://farm9.staticflickr.com/8186/8119368305_4e622c8349_z.jpg', 'id': 391895}\n",
      "\n",
      "annotations\n",
      "591753\n",
      "{'image_id': 203564, 'id': 37, 'caption': 'A bicycle replica with a clock as the front wheel.'}\n",
      "\n",
      "licenses\n",
      "8\n",
      "<class 'list'>\n",
      "{'url': 'http://creativecommons.org/licenses/by-nc-sa/2.0/', 'id': 1, 'name': 'Attribution-NonCommercial-ShareAlike License'}\n"
     ]
    }
   ],
   "source": [
    "print(type(caption_data))\n",
    "\n",
    "caption_key = caption_data.keys()\n",
    "print(len(caption_key))\n",
    "print(caption_key)\n",
    "\n",
    "print()\n",
    "print(\"images\")\n",
    "print(type(caption_data['images']))\n",
    "print(len(caption_data['images']))\n",
    "print(caption_data['images'][0])\n",
    "\n",
    "print()\n",
    "print(\"annotations\")\n",
    "print(len(caption_data[\"annotations\"]))\n",
    "print(caption_data[\"annotations\"][0])\n",
    "\n",
    "caption_image_id = caption_data[\"annotations\"][0][\"image_id\"]\n",
    "\n",
    "\n",
    "# print()\n",
    "# print(\"info\")\n",
    "# print(len(caption_data[\"info\"]))\n",
    "# print(type(caption_data[\"info\"]))\n",
    "# caption_info_keys = caption_data[\"info\"].keys()\n",
    "# print(caption_info_keys)\n",
    "\n",
    "# print()\n",
    "# print(\"licenses\")\n",
    "# print(len(caption_data[\"licenses\"]))\n",
    "# print(type(caption_data[\"licenses\"]))\n",
    "# print(caption_data[\"licenses\"][0])"
   ]
  },
  {
   "cell_type": "code",
   "execution_count": 7,
   "metadata": {},
   "outputs": [
    {
     "name": "stdout",
     "output_type": "stream",
     "text": [
      "<class 'list'>\n"
     ]
    }
   ],
   "source": [
    "dic = {1:[\"apple\",\"peach\"],2:\"orrange\"}\n",
    "print(type(dic[1]))"
   ]
  },
  {
   "cell_type": "code",
   "execution_count": 21,
   "metadata": {},
   "outputs": [
    {
     "name": "stdout",
     "output_type": "stream",
     "text": [
      "<class 'dict'>\n",
      "dict_keys(['info', 'licenses', 'images', 'annotations', 'categories'])\n"
     ]
    }
   ],
   "source": [
    "instance_file_path = \"../../coco/annotations/instances_train2017.json\"\n",
    "\n",
    "with open(instance_file_path,\"r\") as file:\n",
    "    instance_data = json.load(file)"
   ]
  },
  {
   "cell_type": "code",
   "execution_count": 24,
   "metadata": {},
   "outputs": [
    {
     "name": "stdout",
     "output_type": "stream",
     "text": [
      "<class 'dict'>\n",
      "dict_keys(['info', 'licenses', 'images', 'annotations', 'categories'])\n",
      "\n",
      "<class 'list'>\n",
      "118287\n",
      "\n",
      "<class 'list'>\n",
      "860001\n",
      "\n",
      "<class 'list'>\n",
      "80\n",
      "\n"
     ]
    }
   ],
   "source": [
    "print(type(instance_data))\n",
    "print(instance_data.keys())\n",
    "print()\n",
    "\n",
    "\n",
    "print(type(instance_data[\"images\"]))\n",
    "print(len(instance_data[\"images\"]))\n",
    "print()\n",
    "\n",
    "print(type(instance_data[\"annotations\"]))\n",
    "print(len(instance_data[\"annotations\"]))\n",
    "print()\n",
    "\n",
    "print(type(instance_data[\"categories\"]))\n",
    "print(len(instance_data[\"categories\"]))\n",
    "print()"
   ]
  },
  {
   "cell_type": "code",
   "execution_count": 34,
   "metadata": {},
   "outputs": [
    {
     "name": "stdout",
     "output_type": "stream",
     "text": [
      "{'license': 3, 'file_name': '000000391895.jpg', 'coco_url': 'http://images.cocodataset.org/train2017/000000391895.jpg', 'height': 360, 'width': 640, 'date_captured': '2013-11-14 11:18:45', 'flickr_url': 'http://farm9.staticflickr.com/8186/8119368305_4e622c8349_z.jpg', 'id': 391895}\n",
      "{'segmentation': [[239.97, 260.24, 222.04, 270.49, 199.84, 253.41, 213.5, 227.79, 259.62, 200.46, 274.13, 202.17, 277.55, 210.71, 249.37, 253.41, 237.41, 264.51, 242.54, 261.95, 228.87, 271.34]], 'area': 2765.1486500000005, 'iscrowd': 0, 'image_id': 558840, 'bbox': [199.84, 200.46, 77.71, 70.88], 'category_id': 58, 'id': 156}\n",
      "{'supercategory': 'appliance', 'id': 80, 'name': 'toaster'}\n"
     ]
    }
   ],
   "source": [
    "print(instance_data[\"images\"][0])\n",
    "print(instance_data[\"annotations\"][0])\n",
    "print(instance_data[\"categories\"][70])"
   ]
  }
 ],
 "metadata": {
  "kernelspec": {
   "display_name": "DeepLearning",
   "language": "python",
   "name": "python3"
  },
  "language_info": {
   "codemirror_mode": {
    "name": "ipython",
    "version": 3
   },
   "file_extension": ".py",
   "mimetype": "text/x-python",
   "name": "python",
   "nbconvert_exporter": "python",
   "pygments_lexer": "ipython3",
   "version": "3.10.9"
  }
 },
 "nbformat": 4,
 "nbformat_minor": 2
}
